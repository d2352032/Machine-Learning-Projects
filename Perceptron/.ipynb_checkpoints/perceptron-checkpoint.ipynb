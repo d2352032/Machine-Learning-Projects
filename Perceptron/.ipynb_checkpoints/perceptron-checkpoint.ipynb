{
 "cells": [
  {
   "cell_type": "code",
   "execution_count": 33,
   "metadata": {},
   "outputs": [
    {
     "name": "stdout",
     "output_type": "stream",
     "text": [
      "average converge iteration: 73.35 for 20 time perceptron in 3.875654 secs.\n"
     ]
    }
   ],
   "source": [
    "from sklearn.model_selection import train_test_split\n",
    "from datetime import datetime\n",
    "import pandas as pd\n",
    "import numpy as np\n",
    "import seaborn as sns\n",
    "import random\n",
    "\n",
    "\n",
    "class Preceptron(object):\n",
    "    def __init__(self, fileName):\n",
    "      \n",
    "        self.data = pd.read_csv(fileName, sep=\"\\s+\", header = None)\n",
    "        self.num_of_datas = self.data.shape[0]\n",
    "        self.num_of_features = self.data.shape[1] -1\n",
    "        self.w = np.zeros(self.num_of_features)\n",
    "        self.t = 0 \n",
    "\n",
    "\n",
    "    def train(self, random_seed = -1, learning_speed = 1, max_iteration = 10000):\n",
    "\n",
    "        X=self.data[self.data.columns[0:self.num_of_features]]\n",
    "        y=self.data[self.num_of_features]\n",
    "\n",
    "        if random_seed > -1:\n",
    "            X_train, X_test, y_train, y_test = train_test_split(X, y, test_size=0, random_state = random_seed)\n",
    "        else:\n",
    "            X_train = X\n",
    "            y_train = y\n",
    "        #Note: if we use Preceptron model from sklean, we don't have to insert x0 = 1 lines\n",
    "        #DataFrameName.insert(loc, column, value, allow_duplicates = False)\n",
    "        X_train.insert(0, \"x0\", np.ones(len(y_train)), False)\n",
    "        X_train.head()\n",
    "        \n",
    "        def sign_positive(num):\n",
    "            if num > 0: return 1\n",
    "            else: return -1\n",
    "\n",
    "        w = np.zeros(self.num_of_features +1)\n",
    "        for t in range(0, max_iteration):\n",
    "            for n in range(0,len(X_train)):\n",
    "                if sign_positive(np.dot(w, X_train.iloc[n])) != y_train.iloc[n]:\n",
    "                    w = w + learning_speed * y_train.iloc[n] * X_train.iloc[n]\n",
    "#                     print(\"iteration:\", t, \"index:\", n, \"mistake on:\", X_train.iloc[n].name)\n",
    "                    break\n",
    "                elif n == len(X_train)-1:\n",
    "#                     print(\"no mistake for iteration:\",t)\n",
    "                    self.t = t\n",
    "                    return\n",
    "        self.t = t\n",
    "        return\n",
    "\n",
    "# if __name__ == '__main__':\n",
    "\n",
    "\n",
    "pct = Preceptron('hw1_15_train.dat')\n",
    "tick1 = datetime.now()\n",
    "_sum = 0\n",
    "repeat = 20\n",
    "for i in range(repeat):\n",
    "    pct.train(random.randint(1,60000))\n",
    "    _sum += pct.t\n",
    "#     print(pct.t)\n",
    "tick2 = datetime.now()\n",
    "tdiff = tick2 - tick1\n",
    "print(\"average converge iteration:\",_sum / repeat, \"for\", repeat, \"time perceptron in\", tdiff.total_seconds(), \"secs.\")"
   ]
  }
 ],
 "metadata": {
  "kernelspec": {
   "display_name": "Python 3",
   "language": "python",
   "name": "python3"
  },
  "language_info": {
   "codemirror_mode": {
    "name": "ipython",
    "version": 3
   },
   "file_extension": ".py",
   "mimetype": "text/x-python",
   "name": "python",
   "nbconvert_exporter": "python",
   "pygments_lexer": "ipython3",
   "version": "3.6.4"
  }
 },
 "nbformat": 4,
 "nbformat_minor": 2
}
