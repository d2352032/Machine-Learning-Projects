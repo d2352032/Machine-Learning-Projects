{
 "cells": [
  {
   "cell_type": "markdown",
   "metadata": {},
   "source": [
    "# Preceptron Model\n",
    "\n",
    " In this note I used the homework1's dataset from Coursera course: [Machine Learning Foundations](https://www.coursera.org/learn/ntumlone-mathematicalfoundations/)\n",
    " \n",
    " First I import the data by **Pandas.read_csv** funciton and spilt the dataset by **train_test_split**, which can split the dataset to train / test data with random sorting. \n",
    " Then I'm going to implemnt two perceptron models: In the first perceptron I use **sklearn.line_model.Perceptron** to train a Perceptron then evaluate the accuracy. In the second preceptron, I do the perceptron manually by scratching its graph y = W'X, and evaluate the accuracy.\n",
    " Finally, the average of iteration of perceptron convergence is counted with the operation time, to check the performance of our manually perceptron model."
   ]
  },
  {
   "cell_type": "markdown",
   "metadata": {},
   "source": [
    "## Import Data"
   ]
  },
  {
   "cell_type": "code",
   "execution_count": 1,
   "metadata": {},
   "outputs": [],
   "source": [
    "import pandas as pd\n",
    "import numpy as np\n",
    "import matplotlib.pyplot as plt\n",
    "import seaborn as sns\n",
    "%matplotlib inline"
   ]
  },
  {
   "cell_type": "code",
   "execution_count": 2,
   "metadata": {},
   "outputs": [
    {
     "data": {
      "text/html": [
       "<div>\n",
       "<style scoped>\n",
       "    .dataframe tbody tr th:only-of-type {\n",
       "        vertical-align: middle;\n",
       "    }\n",
       "\n",
       "    .dataframe tbody tr th {\n",
       "        vertical-align: top;\n",
       "    }\n",
       "\n",
       "    .dataframe thead th {\n",
       "        text-align: right;\n",
       "    }\n",
       "</style>\n",
       "<table border=\"1\" class=\"dataframe\">\n",
       "  <thead>\n",
       "    <tr style=\"text-align: right;\">\n",
       "      <th></th>\n",
       "      <th>x1</th>\n",
       "      <th>x2</th>\n",
       "      <th>x3</th>\n",
       "      <th>x4</th>\n",
       "      <th>y</th>\n",
       "    </tr>\n",
       "  </thead>\n",
       "  <tbody>\n",
       "    <tr>\n",
       "      <th>0</th>\n",
       "      <td>0.97681</td>\n",
       "      <td>0.107230</td>\n",
       "      <td>0.64385</td>\n",
       "      <td>0.29556</td>\n",
       "      <td>1</td>\n",
       "    </tr>\n",
       "    <tr>\n",
       "      <th>1</th>\n",
       "      <td>0.67194</td>\n",
       "      <td>0.241800</td>\n",
       "      <td>0.83075</td>\n",
       "      <td>0.42741</td>\n",
       "      <td>1</td>\n",
       "    </tr>\n",
       "    <tr>\n",
       "      <th>2</th>\n",
       "      <td>0.20619</td>\n",
       "      <td>0.233210</td>\n",
       "      <td>0.81004</td>\n",
       "      <td>0.98691</td>\n",
       "      <td>1</td>\n",
       "    </tr>\n",
       "    <tr>\n",
       "      <th>3</th>\n",
       "      <td>0.51583</td>\n",
       "      <td>0.055814</td>\n",
       "      <td>0.92274</td>\n",
       "      <td>0.75797</td>\n",
       "      <td>1</td>\n",
       "    </tr>\n",
       "    <tr>\n",
       "      <th>4</th>\n",
       "      <td>0.70893</td>\n",
       "      <td>0.108360</td>\n",
       "      <td>0.33951</td>\n",
       "      <td>0.77058</td>\n",
       "      <td>1</td>\n",
       "    </tr>\n",
       "  </tbody>\n",
       "</table>\n",
       "</div>"
      ],
      "text/plain": [
       "        x1        x2       x3       x4  y\n",
       "0  0.97681  0.107230  0.64385  0.29556  1\n",
       "1  0.67194  0.241800  0.83075  0.42741  1\n",
       "2  0.20619  0.233210  0.81004  0.98691  1\n",
       "3  0.51583  0.055814  0.92274  0.75797  1\n",
       "4  0.70893  0.108360  0.33951  0.77058  1"
      ]
     },
     "execution_count": 2,
     "metadata": {},
     "output_type": "execute_result"
    }
   ],
   "source": [
    "column_names = ['x1', 'x2', 'x3', 'x4', 'y']\n",
    "data = pd.read_csv('hw1_15_train.dat', sep=\"\\s+\", header = None, names = column_names)\n",
    "data.head()"
   ]
  },
  {
   "cell_type": "markdown",
   "metadata": {},
   "source": [
    "Note: if don't use sep=\"\\s+\", the result will be:"
   ]
  },
  {
   "cell_type": "code",
   "execution_count": 3,
   "metadata": {
    "scrolled": false
   },
   "outputs": [
    {
     "data": {
      "text/html": [
       "<div>\n",
       "<style scoped>\n",
       "    .dataframe tbody tr th:only-of-type {\n",
       "        vertical-align: middle;\n",
       "    }\n",
       "\n",
       "    .dataframe tbody tr th {\n",
       "        vertical-align: top;\n",
       "    }\n",
       "\n",
       "    .dataframe thead th {\n",
       "        text-align: right;\n",
       "    }\n",
       "</style>\n",
       "<table border=\"1\" class=\"dataframe\">\n",
       "  <thead>\n",
       "    <tr style=\"text-align: right;\">\n",
       "      <th></th>\n",
       "      <th>x1</th>\n",
       "      <th>x2</th>\n",
       "      <th>x3</th>\n",
       "      <th>x4</th>\n",
       "      <th>y</th>\n",
       "    </tr>\n",
       "  </thead>\n",
       "  <tbody>\n",
       "    <tr>\n",
       "      <th>0</th>\n",
       "      <td>0.97681 0.10723 0.64385 0.29556\\t1</td>\n",
       "      <td>NaN</td>\n",
       "      <td>NaN</td>\n",
       "      <td>NaN</td>\n",
       "      <td>NaN</td>\n",
       "    </tr>\n",
       "    <tr>\n",
       "      <th>1</th>\n",
       "      <td>0.67194 0.2418 0.83075 0.42741\\t1</td>\n",
       "      <td>NaN</td>\n",
       "      <td>NaN</td>\n",
       "      <td>NaN</td>\n",
       "      <td>NaN</td>\n",
       "    </tr>\n",
       "    <tr>\n",
       "      <th>2</th>\n",
       "      <td>0.20619 0.23321 0.81004 0.98691\\t1</td>\n",
       "      <td>NaN</td>\n",
       "      <td>NaN</td>\n",
       "      <td>NaN</td>\n",
       "      <td>NaN</td>\n",
       "    </tr>\n",
       "    <tr>\n",
       "      <th>3</th>\n",
       "      <td>0.51583 0.055814 0.92274 0.75797\\t1</td>\n",
       "      <td>NaN</td>\n",
       "      <td>NaN</td>\n",
       "      <td>NaN</td>\n",
       "      <td>NaN</td>\n",
       "    </tr>\n",
       "    <tr>\n",
       "      <th>4</th>\n",
       "      <td>0.70893 0.10836 0.33951 0.77058\\t1</td>\n",
       "      <td>NaN</td>\n",
       "      <td>NaN</td>\n",
       "      <td>NaN</td>\n",
       "      <td>NaN</td>\n",
       "    </tr>\n",
       "  </tbody>\n",
       "</table>\n",
       "</div>"
      ],
      "text/plain": [
       "                                    x1  x2  x3  x4   y\n",
       "0   0.97681 0.10723 0.64385 0.29556\\t1 NaN NaN NaN NaN\n",
       "1    0.67194 0.2418 0.83075 0.42741\\t1 NaN NaN NaN NaN\n",
       "2   0.20619 0.23321 0.81004 0.98691\\t1 NaN NaN NaN NaN\n",
       "3  0.51583 0.055814 0.92274 0.75797\\t1 NaN NaN NaN NaN\n",
       "4   0.70893 0.10836 0.33951 0.77058\\t1 NaN NaN NaN NaN"
      ]
     },
     "execution_count": 3,
     "metadata": {},
     "output_type": "execute_result"
    }
   ],
   "source": [
    "data2 = pd.read_csv('hw1_15_train.dat', names = column_names)\n",
    "data2.head()"
   ]
  },
  {
   "cell_type": "markdown",
   "metadata": {},
   "source": [
    "## Perceptron 1 - sklearn. line_model"
   ]
  },
  {
   "cell_type": "code",
   "execution_count": 11,
   "metadata": {},
   "outputs": [],
   "source": [
    "#split data\n",
    "from sklearn.model_selection import train_test_split\n",
    "\n",
    "X=data[['x1', 'x2', 'x3', 'x4']]\n",
    "y=data['y']\n",
    "X_train, X_test, y_train, y_test = train_test_split(X, y, test_size=0.4, random_state=101)"
   ]
  },
  {
   "cell_type": "code",
   "execution_count": 12,
   "metadata": {},
   "outputs": [
    {
     "data": {
      "text/html": [
       "<div>\n",
       "<style scoped>\n",
       "    .dataframe tbody tr th:only-of-type {\n",
       "        vertical-align: middle;\n",
       "    }\n",
       "\n",
       "    .dataframe tbody tr th {\n",
       "        vertical-align: top;\n",
       "    }\n",
       "\n",
       "    .dataframe thead th {\n",
       "        text-align: right;\n",
       "    }\n",
       "</style>\n",
       "<table border=\"1\" class=\"dataframe\">\n",
       "  <thead>\n",
       "    <tr style=\"text-align: right;\">\n",
       "      <th></th>\n",
       "      <th>x1</th>\n",
       "      <th>x2</th>\n",
       "      <th>x3</th>\n",
       "      <th>x4</th>\n",
       "    </tr>\n",
       "  </thead>\n",
       "  <tbody>\n",
       "    <tr>\n",
       "      <th>206</th>\n",
       "      <td>0.83858</td>\n",
       "      <td>0.81299</td>\n",
       "      <td>0.95404</td>\n",
       "      <td>0.624720</td>\n",
       "    </tr>\n",
       "    <tr>\n",
       "      <th>318</th>\n",
       "      <td>0.33281</td>\n",
       "      <td>0.83714</td>\n",
       "      <td>0.21334</td>\n",
       "      <td>0.275350</td>\n",
       "    </tr>\n",
       "    <tr>\n",
       "      <th>202</th>\n",
       "      <td>0.54582</td>\n",
       "      <td>0.79468</td>\n",
       "      <td>0.18279</td>\n",
       "      <td>0.048142</td>\n",
       "    </tr>\n",
       "    <tr>\n",
       "      <th>314</th>\n",
       "      <td>0.76590</td>\n",
       "      <td>0.28888</td>\n",
       "      <td>0.61728</td>\n",
       "      <td>0.165700</td>\n",
       "    </tr>\n",
       "    <tr>\n",
       "      <th>20</th>\n",
       "      <td>0.71073</td>\n",
       "      <td>0.29015</td>\n",
       "      <td>0.15557</td>\n",
       "      <td>0.705880</td>\n",
       "    </tr>\n",
       "  </tbody>\n",
       "</table>\n",
       "</div>"
      ],
      "text/plain": [
       "          x1       x2       x3        x4\n",
       "206  0.83858  0.81299  0.95404  0.624720\n",
       "318  0.33281  0.83714  0.21334  0.275350\n",
       "202  0.54582  0.79468  0.18279  0.048142\n",
       "314  0.76590  0.28888  0.61728  0.165700\n",
       "20   0.71073  0.29015  0.15557  0.705880"
      ]
     },
     "execution_count": 12,
     "metadata": {},
     "output_type": "execute_result"
    }
   ],
   "source": [
    "X_train.head()"
   ]
  },
  {
   "cell_type": "code",
   "execution_count": 13,
   "metadata": {},
   "outputs": [
    {
     "data": {
      "text/html": [
       "<div>\n",
       "<style scoped>\n",
       "    .dataframe tbody tr th:only-of-type {\n",
       "        vertical-align: middle;\n",
       "    }\n",
       "\n",
       "    .dataframe tbody tr th {\n",
       "        vertical-align: top;\n",
       "    }\n",
       "\n",
       "    .dataframe thead th {\n",
       "        text-align: right;\n",
       "    }\n",
       "</style>\n",
       "<table border=\"1\" class=\"dataframe\">\n",
       "  <thead>\n",
       "    <tr style=\"text-align: right;\">\n",
       "      <th></th>\n",
       "      <th>x1</th>\n",
       "      <th>x2</th>\n",
       "      <th>x3</th>\n",
       "      <th>x4</th>\n",
       "    </tr>\n",
       "  </thead>\n",
       "  <tbody>\n",
       "    <tr>\n",
       "      <th>38</th>\n",
       "      <td>0.91059</td>\n",
       "      <td>0.18045</td>\n",
       "      <td>0.089421</td>\n",
       "      <td>0.59719</td>\n",
       "    </tr>\n",
       "    <tr>\n",
       "      <th>387</th>\n",
       "      <td>0.50468</td>\n",
       "      <td>0.99699</td>\n",
       "      <td>0.751360</td>\n",
       "      <td>0.51681</td>\n",
       "    </tr>\n",
       "    <tr>\n",
       "      <th>270</th>\n",
       "      <td>0.51718</td>\n",
       "      <td>0.67211</td>\n",
       "      <td>0.708280</td>\n",
       "      <td>0.31218</td>\n",
       "    </tr>\n",
       "    <tr>\n",
       "      <th>181</th>\n",
       "      <td>0.32174</td>\n",
       "      <td>0.85545</td>\n",
       "      <td>0.713780</td>\n",
       "      <td>0.91737</td>\n",
       "    </tr>\n",
       "    <tr>\n",
       "      <th>195</th>\n",
       "      <td>0.61368</td>\n",
       "      <td>0.29695</td>\n",
       "      <td>0.357480</td>\n",
       "      <td>0.84100</td>\n",
       "    </tr>\n",
       "  </tbody>\n",
       "</table>\n",
       "</div>"
      ],
      "text/plain": [
       "          x1       x2        x3       x4\n",
       "38   0.91059  0.18045  0.089421  0.59719\n",
       "387  0.50468  0.99699  0.751360  0.51681\n",
       "270  0.51718  0.67211  0.708280  0.31218\n",
       "181  0.32174  0.85545  0.713780  0.91737\n",
       "195  0.61368  0.29695  0.357480  0.84100"
      ]
     },
     "execution_count": 13,
     "metadata": {},
     "output_type": "execute_result"
    }
   ],
   "source": [
    "X_test.head()"
   ]
  },
  {
   "cell_type": "code",
   "execution_count": 14,
   "metadata": {
    "scrolled": true
   },
   "outputs": [
    {
     "data": {
      "text/plain": [
       "240"
      ]
     },
     "execution_count": 14,
     "metadata": {},
     "output_type": "execute_result"
    }
   ],
   "source": [
    "len(y_train)"
   ]
  },
  {
   "cell_type": "code",
   "execution_count": 15,
   "metadata": {},
   "outputs": [],
   "source": [
    "from sklearn.linear_model import Perceptron\n",
    "pct=Perceptron(max_iter=100,eta0=0.001,random_state=0)#iterative, speed of learning, random resort of training data\n",
    "pct.fit(X_train, y_train)\n",
    "\n",
    "y_pred=pct.predict(X_test)"
   ]
  },
  {
   "cell_type": "code",
   "execution_count": 16,
   "metadata": {},
   "outputs": [
    {
     "data": {
      "text/plain": [
       "1.0"
      ]
     },
     "execution_count": 16,
     "metadata": {},
     "output_type": "execute_result"
    }
   ],
   "source": [
    "pct.score(X_train,y_train)"
   ]
  },
  {
   "cell_type": "code",
   "execution_count": 17,
   "metadata": {
    "scrolled": false
   },
   "outputs": [
    {
     "name": "stdout",
     "output_type": "stream",
     "text": [
      "Accuracy:1.00\n"
     ]
    }
   ],
   "source": [
    "from sklearn.metrics import accuracy_score\n",
    "print ('Accuracy:%.2f' %accuracy_score(y_test,y_pred))"
   ]
  },
  {
   "cell_type": "markdown",
   "metadata": {},
   "source": [
    "## Perceptron 2 - Manually"
   ]
  },
  {
   "cell_type": "markdown",
   "metadata": {},
   "source": [
    "Here we try to construct the Preceptron model as a **Perceptron Class** to make our model have the same form of the **sklearn.linear_model** perceptron model. When Perceptron class is called, the constructor will import the dataset, split it by space. Because the data might not be **linear seperatable**, when user called **Perceptron.train()**, the random seed, learning rate and max_iteration is specified, to avoid unstoppable looping."
   ]
  },
  {
   "cell_type": "code",
   "execution_count": 23,
   "metadata": {},
   "outputs": [],
   "source": [
    "from sklearn.model_selection import train_test_split\n",
    "from datetime import datetime\n",
    "import pandas as pd\n",
    "import numpy as np\n",
    "import seaborn as sns\n",
    "import random\n",
    "\n",
    "\n",
    "class Perceptron(object):\n",
    "    def __init__(self, dataset):\n",
    "      \n",
    "        self.data = pd.read_csv(dataset, sep=\"\\s+\", header = None)\n",
    "        self.num_of_datas = self.data.shape[0]\n",
    "        self.num_of_features = self.data.shape[1] -1\n",
    "        self.w = np.zeros(self.num_of_features)\n",
    "        self.t = 0 \n",
    "\n",
    "\n",
    "    def train(self, random_seed = -1, learning_speed = 1, max_iteration = 10000):\n",
    "\n",
    "        X=self.data[self.data.columns[0:self.num_of_features]]\n",
    "        y=self.data[self.num_of_features]\n",
    "\n",
    "        if random_seed > -1:\n",
    "            X_train, X_test, y_train, y_test = train_test_split(X, y, test_size=0, random_state = random_seed)\n",
    "        else:\n",
    "            X_train = X\n",
    "            y_train = y\n",
    "        #Note: if we use Preceptron model from sklean, we don't have to insert x0 = 1 lines\n",
    "        #DataFrameName.insert(loc, column, value, allow_duplicates = False)\n",
    "        X_train.insert(0, \"x0\", np.ones(len(y_train)), False)\n",
    "        X_train.head()\n",
    "        \n",
    "        def sign_positive(num):\n",
    "            if num > 0: return 1\n",
    "            else: return -1\n",
    "\n",
    "        w = np.zeros(self.num_of_features +1)\n",
    "        for t in range(0, max_iteration):\n",
    "            for n in range(0,len(X_train)):\n",
    "                if sign_positive(np.dot(w, X_train.iloc[n])) != y_train.iloc[n]:\n",
    "                    w = w + learning_speed * y_train.iloc[n] * X_train.iloc[n]\n",
    "#                     print(\"iteration:\", t, \"index:\", n, \"mistake on:\", X_train.iloc[n].name)\n",
    "                    break\n",
    "                elif n == len(X_train)-1:\n",
    "#                     print(\"no mistake for iteration:\",t)\n",
    "                    self.t = t\n",
    "                    return\n",
    "        self.t = t\n",
    "        return\n",
    "\n",
    "# if __name__ == '__main__':\n"
   ]
  },
  {
   "cell_type": "markdown",
   "metadata": {},
   "source": [
    "Q1. Implement PLA by visiting examples in fixed, pre-determined random cycles throughout the algorithm. Run the algorithm on the data set. Please repeat your experiment for 2000 times, each with a different random seed. What is the average number of updates before the algorithm halts?"
   ]
  },
  {
   "cell_type": "code",
   "execution_count": 21,
   "metadata": {},
   "outputs": [
    {
     "name": "stdout",
     "output_type": "stream",
     "text": [
      "average converge iteration: 65.531 for 2000 time perceptron in 401.278893 secs.\n"
     ]
    }
   ],
   "source": [
    "pct = Perceptron('hw1_15_train.dat')\n",
    "tick1 = datetime.now()\n",
    "_sum = 0\n",
    "repeat = 2000\n",
    "for i in range(repeat):\n",
    "    pct.train(random.randint(1,60000))\n",
    "    _sum += pct.t\n",
    "#     print(pct.t)\n",
    "tick2 = datetime.now()\n",
    "tdiff = tick2 - tick1\n",
    "print(\"average converge iteration:\",_sum / repeat, \"for\", repeat, \"time perceptron in\", tdiff.total_seconds(), \"secs.\")"
   ]
  },
  {
   "cell_type": "markdown",
   "metadata": {},
   "source": [
    "Q2. Implement PLA by visiting examples in fixed, pre-determined random cycles throughout the algorithm with learning speed = 0.5. Run the algorithm on the data set. Please repeat your experiment for 2000 times, each with a different random seed. What is the average number of updates before the algorithm halts?"
   ]
  },
  {
   "cell_type": "code",
   "execution_count": null,
   "metadata": {},
   "outputs": [],
   "source": [
    "pct = Perceptron('hw1_15_train.dat')\n",
    "tick1 = datetime.now()\n",
    "_sum = 0\n",
    "repeat = 2000\n",
    "for i in range(repeat):\n",
    "    pct.train(random.randint(1,60000), 0.5)\n",
    "    _sum += pct.t\n",
    "#     print(pct.t)\n",
    "tick2 = datetime.now()\n",
    "tdiff = tick2 - tick1\n",
    "print(\"average converge iteration:\",_sum / repeat, \"for\", repeat, \"time perceptron in\", tdiff.total_seconds(), \"secs.\")"
   ]
  },
  {
   "cell_type": "code",
   "execution_count": null,
   "metadata": {},
   "outputs": [],
   "source": []
  }
 ],
 "metadata": {
  "kernelspec": {
   "display_name": "Python 3",
   "language": "python",
   "name": "python3"
  },
  "language_info": {
   "codemirror_mode": {
    "name": "ipython",
    "version": 3
   },
   "file_extension": ".py",
   "mimetype": "text/x-python",
   "name": "python",
   "nbconvert_exporter": "python",
   "pygments_lexer": "ipython3",
   "version": "3.6.4"
  }
 },
 "nbformat": 4,
 "nbformat_minor": 2
}
